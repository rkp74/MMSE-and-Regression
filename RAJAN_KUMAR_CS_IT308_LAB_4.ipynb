{
  "nbformat": 4,
  "nbformat_minor": 0,
  "metadata": {
    "colab": {
      "provenance": [],
      "include_colab_link": true
    },
    "kernelspec": {
      "display_name": "Python 3",
      "language": "python",
      "name": "python3"
    },
    "language_info": {
      "codemirror_mode": {
        "name": "ipython",
        "version": 3
      },
      "file_extension": ".py",
      "mimetype": "text/x-python",
      "name": "python",
      "nbconvert_exporter": "python",
      "pygments_lexer": "ipython3",
      "version": "3.8.5"
    }
  },
  "cells": [
    {
      "cell_type": "markdown",
      "metadata": {
        "id": "view-in-github",
        "colab_type": "text"
      },
      "source": [
        "<a href=\"https://colab.research.google.com/github/rkp74/MMSE-and-Regression/blob/main/RAJAN_KUMAR_CS_IT308_LAB_4.ipynb\" target=\"_parent\"><img src=\"https://colab.research.google.com/assets/colab-badge.svg\" alt=\"Open In Colab\"/></a>"
      ]
    },
    {
      "cell_type": "markdown",
      "metadata": {
        "id": "J59uxyWVDHIH"
      },
      "source": [
        "# <center> IIIT Vadodara </center>\n",
        "## <center> Winter 2022-23 </center>\n",
        "## <center> CS/IT 308 Machine Learning Lab </center>\n",
        "## <center> Lab#4 MMSE, Linear regression, and Logistic regression</center>"
      ]
    },
    {
      "cell_type": "code",
      "metadata": {
        "id": "avzQ8wuovv0r"
      },
      "source": [
        "%matplotlib inline\n",
        "import numpy as np\n",
        "import matplotlib.pyplot as plt\n",
        "from mpl_toolkits import mplot3d\n",
        "from scipy import misc\n",
        "from numpy import linalg as la\n",
        "import matplotlib.image as mpimg\n",
        "import glob\n",
        "from numpy import linalg as LA\n",
        "import scipy.io as sio "
      ],
      "execution_count": null,
      "outputs": []
    },
    {
      "cell_type": "markdown",
      "metadata": {
        "id": "Ul9TzH7FarSJ"
      },
      "source": [
        "## <font color='blue'> MMSE\n",
        "\n",
        "---\n",
        "\n",
        "Refer class note\n",
        "\n"
      ]
    },
    {
      "cell_type": "markdown",
      "metadata": {
        "id": "9LxANVCMGpeg"
      },
      "source": [
        "## <font color='red'> 1. Find the minimum mean squared error (MMSE) on following data."
      ]
    },
    {
      "cell_type": "code",
      "metadata": {
        "colab": {
          "base_uri": "https://localhost:8080/"
        },
        "id": "29q1QCGfGoji",
        "outputId": "1a986a2a-5c84-4fc9-a169-c65e7080b137"
      },
      "source": [
        "#write code here\n",
        "def find_MSE(x,y):\n",
        "    sum = 0\n",
        "    for i in range(len(y)):\n",
        "        sum = sum + ((x[i] - y[i])**2)\n",
        "    MSE = sum/len(y)\n",
        "#     print(MSE)\n",
        "    return MSE\n",
        "    \n",
        "y = [11,20,19,17,10]\n",
        "y_bar = [12,18,19.5,18,9]\n",
        "MSE = find_MSE(y,y_bar)\n",
        "print (\"The Mean Square Error is: \" , MSE)"
      ],
      "execution_count": null,
      "outputs": [
        {
          "output_type": "stream",
          "name": "stdout",
          "text": [
            "The Mean Square Error is:  1.45\n"
          ]
        }
      ]
    },
    {
      "cell_type": "markdown",
      "metadata": {
        "id": "mSc_Dw5NIEQR"
      },
      "source": [
        "## <font color='red'> 2 Given a sample space $S_{XY}={(0,0),(1,1),(2,2),(2,3)}$, with equiprobable outcomes, i.e., $p(0,0)=p(1,1)=p(2,2)=p(2,3)=\\frac{1}{4}$. Estimate $\\hat{Y}$ given X.\n",
        "\n",
        "\n",
        "$$\\hat{Y}=E(Y)+\\frac{COV(X,Y)}{VAR(X)}(X-E(X))$$\n",
        "\n",
        "Also calculate the mean squared error between $\\hat{Y}$ and $Y$.\n",
        "\n",
        "\n",
        "Hint: You can use the classnotes for help."
      ]
    },
    {
      "cell_type": "code",
      "metadata": {
        "id": "_DVM24iIOLvs",
        "colab": {
          "base_uri": "https://localhost:8080/"
        },
        "outputId": "ff2c119e-9d71-42e3-9299-44538aaa6f0f"
      },
      "source": [
        "#write code here\n",
        "#write code here\n",
        "def find_MSE(x,y):\n",
        "    sum = 0\n",
        "    for i in range(len(y)):\n",
        "        sum = sum + ((x[i] - y[i])**2)\n",
        "    MSE = sum/len(y)\n",
        "    return MSE\n",
        "\n",
        "S = np.array([[0,0],[1,1],[2,2],[2,3]])\n",
        "Exp_x = 0\n",
        "Exp_y = 0\n",
        "Exp_x2 = 0\n",
        "var_x = 0\n",
        "Co_var_xy = 0\n",
        "sum = 0\n",
        "y_hat = []\n",
        "\n",
        "x_val = []\n",
        "y_val = []\n",
        "for i in range(len(S)):\n",
        "    x_val.append(S[i][0])\n",
        "    y_val.append(S[i][1])\n",
        "\n",
        "#calculating the E(x)\n",
        "for i in range(len(S)):\n",
        "    Exp_x = Exp_x + ((S[i][0])*(0.25))\n",
        "print(\"\\nE(x) = \",Exp_x)\n",
        "    \n",
        "#calculating the E(y)\n",
        "for i in range(len(S)):\n",
        "    Exp_y = Exp_y + ((S[i][1])*(0.25))\n",
        "print(\"\\nE(y) = \",Exp_y)\n",
        "    \n",
        "#calculating the E(x^2)\n",
        "for i in range(len(S)):\n",
        "    Exp_x2 = Exp_x2 + (((S[i][0])**2)*(0.25))\n",
        "print(\"\\nE(x^2) = \",Exp_x2)    \n",
        "    \n",
        "#calculating the var(x)    \n",
        "var_x = Exp_x2 - (Exp_x**2)\n",
        "print(\"\\nvar(x) = \",var_x)\n",
        "\n",
        "\n",
        "#calculating the cov(x,y)\n",
        "for i in range(len(S)):\n",
        "  sum = sum + ((x_val[i]-np.average(x_val))*(y_val[i]-np.average(y_val)))\n",
        "cov_var_xy = sum/len(S)\n",
        "print(\"\\ncov(x,y) = \",cov_var_xy)\n",
        "\n",
        "#calculating the Y_hat\n",
        "for i in range(len(S)):\n",
        "    y_hat.append(Exp_y + (cov_var_xy/var_x)*(x_val[i]-Exp_x))\n",
        "\n",
        "    \n",
        "print(\"\\nX |\",\"Y |Y_hat\")\n",
        "for i in range(len(S)):\n",
        "    print(x_val[i],y_val[i],y_hat[i])\n",
        "\n",
        "print(\"\\nMSE of Y and Y_hat is : \",find_MSE(y_val,y_hat))"
      ],
      "execution_count": null,
      "outputs": [
        {
          "output_type": "stream",
          "name": "stdout",
          "text": [
            "\n",
            "E(x) =  1.25\n",
            "\n",
            "E(y) =  1.5\n",
            "\n",
            "E(x^2) =  2.25\n",
            "\n",
            "var(x) =  0.6875\n",
            "\n",
            "cov(x,y) =  0.875\n",
            "\n",
            "X | Y |Y_hat\n",
            "0 0 -0.09090909090909083\n",
            "1 1 1.1818181818181819\n",
            "2 2 2.4545454545454546\n",
            "2 3 2.4545454545454546\n",
            "\n",
            "MSE of Y and Y_hat is :  0.13636363636363635\n"
          ]
        }
      ]
    },
    {
      "cell_type": "markdown",
      "metadata": {
        "id": "sA91hARzDHIN"
      },
      "source": [
        "## <font color='blue'> Linear regression\n",
        "\n",
        "---\n",
        "\n",
        "Refer class note\n",
        "\n"
      ]
    },
    {
      "cell_type": "markdown",
      "metadata": {
        "id": "A_AErP9zTzhW"
      },
      "source": [
        "## <font color='red'> 3. Perform linear regression on the given dataset and observe underfitting and overfitting capacity of the function."
      ]
    },
    {
      "cell_type": "code",
      "metadata": {
        "colab": {
          "base_uri": "https://localhost:8080/"
        },
        "id": "ece3rfGPDHIO",
        "outputId": "87b4fe66-0a67-4b38-ea6b-2f17f5883691"
      },
      "source": [
        "#example of dataset:\n",
        "\n",
        "no_samples = 10\n",
        "\n",
        "#Generate n = np.random.rand(no_samples) # Here data is zero mean\n",
        "no_samples = 10\n",
        "n = np.random.rand(no_samples)\n",
        "print(n)\n",
        "#Generate x between 0 and 2 using number of smaples\n",
        "# x=np.arange(0,2,4/(no_samples+10))\n",
        "x=np.arange(0,2,2/(no_samples))\n",
        "print(x)\n",
        "\n",
        "#Generate function y dependent on x and n: y = x**2+2*n\n",
        "y = x**2+2*n\n",
        "print(y)"
      ],
      "execution_count": null,
      "outputs": [
        {
          "output_type": "stream",
          "name": "stdout",
          "text": [
            "[0.00236741 0.20372491 0.38188358 0.85083672 0.01134685 0.64232648\n",
            " 0.9707641  0.95908733 0.72961444 0.12526257]\n",
            "[0.  0.2 0.4 0.6 0.8 1.  1.2 1.4 1.6 1.8]\n",
            "[0.00473482 0.44744982 0.92376716 2.06167345 0.66269371 2.28465296\n",
            " 3.38152821 3.87817466 4.01922888 3.49052515]\n"
          ]
        }
      ]
    },
    {
      "cell_type": "code",
      "metadata": {
        "colab": {
          "base_uri": "https://localhost:8080/",
          "height": 283
        },
        "id": "oXhg_EyRDHIO",
        "outputId": "cac0139b-5526-409a-f2b6-03baa7da00e0"
      },
      "source": [
        "# code to scatter plot x and y\n",
        "\n",
        "plt.scatter(x,y)\n"
      ],
      "execution_count": null,
      "outputs": [
        {
          "output_type": "execute_result",
          "data": {
            "text/plain": [
              "<matplotlib.collections.PathCollection at 0x7f5c3c3e0160>"
            ]
          },
          "metadata": {},
          "execution_count": 26
        },
        {
          "output_type": "display_data",
          "data": {
            "text/plain": [
              "<Figure size 432x288 with 1 Axes>"
            ],
            "image/png": "[encoded data removed]"
          },
          "metadata": {
            "needs_background": "light"
          }
        }
      ]
    },
    {
      "cell_type": "markdown",
      "metadata": {
        "id": "FRn1fNC3V6A2"
      },
      "source": [
        "#### Hint: Pseudo inverse\n",
        " $$Y = W^TX$$\n",
        " $$W = (X^TX)^{-1}X^TY$$ "
      ]
    },
    {
      "cell_type": "markdown",
      "metadata": {
        "id": "Q2hKjTtGW1_Q"
      },
      "source": [
        "1. Take $y = \\theta_0 + \\theta_1 x$"
      ]
    },
    {
      "cell_type": "code",
      "source": [
        "X1 = []\n",
        "for i in x:\n",
        "    X1.append([1,i])\n",
        "W1 = np.linalg.pinv(X1).dot(y)\n",
        "print(X1)\n",
        "print(W1)"
      ],
      "metadata": {
        "colab": {
          "base_uri": "https://localhost:8080/"
        },
        "id": "khgB61afbeIm",
        "outputId": "f4499d8c-3529-46b6-f1c5-b2ab491ba301"
      },
      "execution_count": null,
      "outputs": [
        {
          "output_type": "stream",
          "name": "stdout",
          "text": [
            "[[1, 0.0], [1, 0.2], [1, 0.4], [1, 0.6000000000000001], [1, 0.8], [1, 1.0], [1, 1.2000000000000002], [1, 1.4000000000000001], [1, 1.6], [1, 1.8]]\n",
            "[0.02285759 2.32509477]\n"
          ]
        }
      ]
    },
    {
      "cell_type": "code",
      "metadata": {
        "colab": {
          "base_uri": "https://localhost:8080/"
        },
        "id": "t314LgujDfsU",
        "outputId": "5c549f4d-6878-41e4-eca2-117ad099c331"
      },
      "source": [
        "#Generate X1 by concatinating ones and x as shown in output\n",
        "X1 = []\n",
        "for i in x:\n",
        "    X1.append([1,i])\n",
        "\n",
        "#Find W1 using pseudo inverse\n",
        "W1 = np.linalg.pinv(X1).dot(y)\n",
        "\n",
        "print(X1)\n",
        "print(W1)"
      ],
      "execution_count": null,
      "outputs": [
        {
          "output_type": "stream",
          "name": "stdout",
          "text": [
            "[[1, 0.0], [1, 0.2], [1, 0.4], [1, 0.6000000000000001], [1, 0.8], [1, 1.0], [1, 1.2000000000000002], [1, 1.4000000000000001], [1, 1.6], [1, 1.8]]\n",
            "[0.02285759 2.32509477]\n"
          ]
        }
      ]
    },
    {
      "cell_type": "markdown",
      "metadata": {
        "id": "QSz_j96NXFrl"
      },
      "source": [
        "2. Take $y = \\theta_0 + \\theta_1 x + \\theta_2 x^2 +\\theta_3 x^3 +\\theta_4 x^4+\\theta_5 x^5$"
      ]
    },
    {
      "cell_type": "code",
      "metadata": {
        "id": "k15lcMq9GqY5",
        "colab": {
          "base_uri": "https://localhost:8080/"
        },
        "outputId": "2c956683-a56a-43c6-ea23-88f89dcfe3ac"
      },
      "source": [
        "#Generate X2 by concatinating ones,x,x**2,x**3,x**4,x**5 \n",
        "X2 = []\n",
        "for i in x:\n",
        "    X2.append([1,i,i**2,i**3,i**4,i**5])\n",
        "#Generate W2 using: W2= la.inv(X2.T@X2)@X2.T@y\n",
        "W2 = np.linalg.pinv(X2).dot(y)\n",
        "print(X2)\n",
        "print(W2)"
      ],
      "execution_count": null,
      "outputs": [
        {
          "output_type": "stream",
          "name": "stdout",
          "text": [
            "[[1, 0.0, 0.0, 0.0, 0.0, 0.0], [1, 0.2, 0.04000000000000001, 0.008000000000000002, 0.0016000000000000003, 0.0003200000000000001], [1, 0.4, 0.16000000000000003, 0.06400000000000002, 0.025600000000000005, 0.010240000000000003], [1, 0.6000000000000001, 0.3600000000000001, 0.2160000000000001, 0.12960000000000008, 0.07776000000000005], [1, 0.8, 0.6400000000000001, 0.5120000000000001, 0.4096000000000001, 0.3276800000000001], [1, 1.0, 1.0, 1.0, 1.0, 1.0], [1, 1.2000000000000002, 1.4400000000000004, 1.7280000000000009, 2.073600000000001, 2.4883200000000016], [1, 1.4000000000000001, 1.9600000000000004, 2.7440000000000007, 3.8416000000000015, 5.378240000000003], [1, 1.6, 2.5600000000000005, 4.096000000000001, 6.553600000000001, 10.485760000000003], [1, 1.8, 3.24, 5.832000000000001, 10.4976, 18.895680000000002]]\n",
            "[-0.06947482  5.32966047 -9.97982299  8.62957121 -0.93500037 -0.75544852]\n"
          ]
        }
      ]
    },
    {
      "cell_type": "code",
      "source": [
        "#Generate X4 by concatinating ones,x,x**2,x**3,x**4,x**5 \n",
        "X4 = []\n",
        "for i in x:\n",
        "    X4.append([1,i,i**2,i**3,i**4,i**5,i**6,i**7,i**8,i**9])\n",
        "#Generate W2 using: W2= la.inv(X2.T@X2)@X2.T@y\n",
        "W4 = np.linalg.pinv(X4).dot(y)\n",
        "print(X4)\n",
        "print(W4)"
      ],
      "metadata": {
        "colab": {
          "base_uri": "https://localhost:8080/"
        },
        "id": "blqRWz8QccMy",
        "outputId": "363e328e-511c-4cb4-9fff-7906d2b6298c"
      },
      "execution_count": null,
      "outputs": [
        {
          "output_type": "stream",
          "name": "stdout",
          "text": [
            "[[1, 0.0, 0.0, 0.0, 0.0, 0.0, 0.0, 0.0, 0.0, 0.0], [1, 0.2, 0.04000000000000001, 0.008000000000000002, 0.0016000000000000003, 0.0003200000000000001, 6.400000000000002e-05, 1.2800000000000005e-05, 2.5600000000000013e-06, 5.120000000000002e-07], [1, 0.4, 0.16000000000000003, 0.06400000000000002, 0.025600000000000005, 0.010240000000000003, 0.0040960000000000015, 0.0016384000000000006, 0.0006553600000000003, 0.0002621440000000001], [1, 0.6000000000000001, 0.3600000000000001, 0.2160000000000001, 0.12960000000000008, 0.07776000000000005, 0.046656000000000045, 0.027993600000000028, 0.01679616000000002, 0.010077696000000013], [1, 0.8, 0.6400000000000001, 0.5120000000000001, 0.4096000000000001, 0.3276800000000001, 0.2621440000000001, 0.20971520000000007, 0.1677721600000001, 0.13421772800000006], [1, 1.0, 1.0, 1.0, 1.0, 1.0, 1.0, 1.0, 1.0, 1.0], [1, 1.2000000000000002, 1.4400000000000004, 1.7280000000000009, 2.073600000000001, 2.4883200000000016, 2.985984000000003, 3.5831808000000036, 4.299816960000005, 5.1597803520000065], [1, 1.4000000000000001, 1.9600000000000004, 2.7440000000000007, 3.8416000000000015, 5.378240000000003, 7.529536000000005, 10.541350400000008, 14.75789056000001, 20.661046784000018], [1, 1.6, 2.5600000000000005, 4.096000000000001, 6.553600000000001, 10.485760000000003, 16.777216000000006, 26.84354560000001, 42.94967296000002, 68.71947673600003], [1, 1.8, 3.24, 5.832000000000001, 10.4976, 18.895680000000002, 34.012224, 61.22200320000001, 110.19960576000003, 198.35929036800005]]\n",
            "[ 4.73481507e-03  2.51404056e+02 -3.16442789e+03  1.55563201e+04\n",
            " -3.96204157e+04  5.82719371e+04 -5.14176468e+04  2.68750045e+04\n",
            " -7.67132995e+03  9.21434486e+02]\n"
          ]
        }
      ]
    },
    {
      "cell_type": "markdown",
      "metadata": {
        "id": "O8dE-LFTXjlg"
      },
      "source": [
        "3. Take $y = \\theta_0 + \\theta_1 x + \\theta_2 x^2 $"
      ]
    },
    {
      "cell_type": "code",
      "source": [
        "#Generate X3 by concatinating ones,x,x**2 \n",
        "X3 = []\n",
        "for i in x:\n",
        "    X3.append([1,i,i**2])\n",
        "#Generate W3 using: W2= la.inv(X3.T@X3)@X3.T@y\n",
        "W3 = np.linalg.pinv(X3).dot(y)\n",
        "\n",
        "print(X3)\n",
        "print(W3)"
      ],
      "metadata": {
        "colab": {
          "base_uri": "https://localhost:8080/"
        },
        "id": "2ge1DrFlcBU1",
        "outputId": "fde4d810-0271-4f5c-ac2d-bd3d0423fa02"
      },
      "execution_count": null,
      "outputs": [
        {
          "output_type": "stream",
          "name": "stdout",
          "text": [
            "[[1, 0.0, 0.0], [1, 0.2, 0.04000000000000001], [1, 0.4, 0.16000000000000003], [1, 0.6000000000000001, 0.3600000000000001], [1, 0.8, 0.6400000000000001], [1, 1.0, 1.0], [1, 1.2000000000000002, 1.4400000000000004], [1, 1.4000000000000001, 1.9600000000000004], [1, 1.6, 2.5600000000000005], [1, 1.8, 3.24]]\n",
            "[-0.11423406  2.83918845 -0.2856076 ]\n"
          ]
        }
      ]
    },
    {
      "cell_type": "code",
      "metadata": {
        "colab": {
          "base_uri": "https://localhost:8080/",
          "height": 283
        },
        "id": "FTXLSaztFzlZ",
        "outputId": "eb32fb26-5ef9-41a1-9433-554babc3793f"
      },
      "source": [
        "fig = plt.figure()\n",
        "plt.scatter(x,y)\n",
        "\n",
        "#Generate y_p1 = X1@W1\n",
        "#Generate y_p2 = X2@W2\n",
        "#Generate y_p3 = X3@W3\n",
        "y_p1=np.array(X1).dot(W1)\n",
        "y_p2=np.array(X2).dot(W2)\n",
        "y_p3=np.array(X3).dot(W3)\n",
        "y_p4=np.array(X4).dot(W4)\n",
        "\n",
        "#Plot x,y_p1\n",
        "#plot x,y_p2\n",
        "#plot x,y_p3\n",
        "plt.plot(x,y_p1)\n",
        "plt.plot(x,y_p2)\n",
        "plt.plot(x,y_p3)\n",
        "plt.plot(x,y_p4)\n",
        "plt.legend([\"line\",\"higher degree polynomial\",\"second degree polynomial\",\"very high degree polynomial\"])\n"
      ],
      "execution_count": null,
      "outputs": [
        {
          "output_type": "execute_result",
          "data": {
            "text/plain": [
              "<matplotlib.legend.Legend at 0x7f5c3c31d520>"
            ]
          },
          "metadata": {},
          "execution_count": 32
        },
        {
          "output_type": "display_data",
          "data": {
            "text/plain": [
              "<Figure size 432x288 with 1 Axes>"
            ],
            "image/png": "[encoded data removed]"
          },
          "metadata": {
            "needs_background": "light"
          }
        }
      ]
    },
    {
      "cell_type": "markdown",
      "metadata": {
        "id": "elPPF--j54CE"
      },
      "source": [
        "## <font color='blue'> Brief about **Gradient descent**:\n",
        "---\n",
        "\n",
        "\n",
        "Given a system $Ax=b$, we find $x$ for given observations $b$ and coeffiecient matrix $A$. When $b$ is not in column space of $A$, then $Ax \\neq b$ and we need to find $x$ in such a way that $Ax \\approx b$.\n",
        "\n",
        "<br>\n",
        "Linear least square is one of the methods to estimate $x$ by minimizing the mean square error as, $\\min ||Ax-b||_2$. This can be written as,\n",
        "        \n",
        "$\\underset{x}{\\mathrm{argmin}}||Ax-b||_{2}^{2} = f(x)$\n",
        "\n",
        "We need to find $x$ in such a way that $f(x)$ will be minimum in $L_2$ norm. \n",
        "\n",
        "<br>\n",
        "\n",
        "\n",
        "We will solve this by applying gradient descent algortithm on $f(x)$. \n",
        "<br>\n",
        "To apply this algorithm we need to find gradient of the function, i.e.,\n",
        "<br>\n",
        "              $\\Delta_x f(x)= A^T(Ax-b) = A^TAx-A^Tb$\n",
        "\n",
        "<br>\n",
        "\n",
        "\n",
        "Optimisation for least-squares\n",
        "<br>\n",
        "$||A^TAx-A^Tb||_2>\\delta$, $\\delta$ is the small positive number indicating tolerance.\n",
        "\n",
        "<br>\n",
        "\n",
        "Now we will find new x iteratively using step size $\\alpha$ to find the best fit for $AX=b$ as:\n",
        "\n",
        "<br>\n",
        "$x^{[n+1]}=x^{[n]}-\\alpha (A^TAx-A^Tb)$.\n",
        "<br>\n",
        "\n",
        "We need to choose $\\alpha$, $\\delta$ and $x^{[0]}$ to iterate until $x^{[n+1]} \\rightarrow x^{[n]}$."
      ]
    },
    {
      "cell_type": "markdown",
      "metadata": {
        "id": "5RHmtTp_2rD-"
      },
      "source": [
        "##  <font color='blue'> Logistic regression\n",
        "\n",
        "---\n",
        "Cost funcion for logistic regression,\n",
        "$$\n",
        "\\begin{aligned}\n",
        "J(\\theta) &=\\frac{1}{m} \\sum_{i=1}^{m} \\cos t\\left(h_{\\theta}\\left(x^{i}\\right), y^{\\prime}\\right) \\\\\n",
        "&=-\\frac{1}{m}\\left[\\sum_{i=1}^{m} y^{i} \\log h_{\\theta}\\left(x^{i}\\right)+\\left(1-y^{i}\\right)\\right.\\log \\left(1-\\log \\left(x^{i}\\right)\\right]\\\\\n",
        "h(x)&=\\frac{1}{1+e^{-\\Theta^Tx}}\n",
        "\\end{aligned}\n",
        "$$\n",
        "So, using gradient descent\n",
        "$$\n",
        "\\Theta_{i+1}=\\Theta_{i}-\\frac{\\alpha}{m} \\sum_{i=1}^{m}\\left(h\\left(x^{i} \\Theta\\right)-y^{i}\\right)\n",
        "$$\n",
        "iterate till $$\n",
        "\\Theta_{i+1} \\cong \\Theta_{i}\n",
        "$$\n",
        "\n",
        "\n"
      ]
    },
    {
      "cell_type": "markdown",
      "metadata": {
        "id": "bmByR5kGEznY"
      },
      "source": [
        "## <font color='red'> 4. Perform logistic regression on the dataset given below.\n",
        "Here, to classify 2D data,\n",
        "decision line can be given as,\n",
        "$$\\theta_0+\\theta_1x+\\theta_2y=0$$\n",
        "Let, $$\\Theta^T=\\begin{bmatrix}\n",
        "\\theta_0\\\\\n",
        "\\theta_1\\\\\n",
        "\\theta_2\n",
        "\\end{bmatrix}$$"
      ]
    },
    {
      "cell_type": "code",
      "metadata": {
        "colab": {
          "base_uri": "https://localhost:8080/"
        },
        "id": "z5jBd5UfOKPK",
        "outputId": "e8d4f4dc-3025-49a8-ef64-9d229d2a1f6b"
      },
      "source": [
        "#Dataset example\n",
        "\n",
        "X = np.array([[0,0,0],[0,1,0],[0,2,0],[0,3,1],[1,0,0],[1,1,0],[1,2,1],[1,3,1],[2,0,0],[2,1,1],[2,2,1],[2,3,1]])\n",
        "Xb =X\n",
        "print(\"x|y|class\")\n",
        "print(Xb)"
      ],
      "execution_count": null,
      "outputs": [
        {
          "output_type": "stream",
          "name": "stdout",
          "text": [
            "x|y|class\n",
            "[[0 0 0]\n",
            " [0 1 0]\n",
            " [0 2 0]\n",
            " [0 3 1]\n",
            " [1 0 0]\n",
            " [1 1 0]\n",
            " [1 2 1]\n",
            " [1 3 1]\n",
            " [2 0 0]\n",
            " [2 1 1]\n",
            " [2 2 1]\n",
            " [2 3 1]]\n"
          ]
        }
      ]
    },
    {
      "cell_type": "code",
      "metadata": {
        "colab": {
          "base_uri": "https://localhost:8080/",
          "height": 265
        },
        "id": "FCTOtJI2OKPK",
        "outputId": "b8ffe553-f4b3-4180-9d87-e11c04db4bde"
      },
      "source": [
        "#Generate scatter plot of X\n",
        "uq = np.unique(Xb[:,-1])\n",
        "for i in uq:\n",
        "    cl1 = Xb[Xb[:,-1]==i]\n",
        "    plt.scatter(cl1[:,0], cl1[:,1],linewidth=10)"
      ],
      "execution_count": null,
      "outputs": [
        {
          "output_type": "display_data",
          "data": {
            "text/plain": [
              "<Figure size 432x288 with 1 Axes>"
            ],
            "image/png": "[encoded data removed]"
          },
          "metadata": {
            "needs_background": "light"
          }
        }
      ]
    },
    {
      "cell_type": "code",
      "metadata": {
        "id": "8nFt5IMZOKPL",
        "colab": {
          "base_uri": "https://localhost:8080/"
        },
        "outputId": "a88fcdc6-5d02-4afa-d5e1-7fa05ddb97c0"
      },
      "source": [
        "# Generate X by concatinating ones and X\n",
        "X=[]\n",
        "Y=[]\n",
        "for i,j,c in Xb:\n",
        "    X.append([1,i,j])\n",
        "    Y.append(c)\n",
        "X=np.array(X)\n",
        "Y=np.array(Y)\n",
        "print(X,Y)"
      ],
      "execution_count": null,
      "outputs": [
        {
          "output_type": "stream",
          "name": "stdout",
          "text": [
            "[[1 0 0]\n",
            " [1 0 1]\n",
            " [1 0 2]\n",
            " [1 0 3]\n",
            " [1 1 0]\n",
            " [1 1 1]\n",
            " [1 1 2]\n",
            " [1 1 3]\n",
            " [1 2 0]\n",
            " [1 2 1]\n",
            " [1 2 2]\n",
            " [1 2 3]] [0 0 0 1 0 0 1 1 0 1 1 1]\n"
          ]
        }
      ]
    },
    {
      "cell_type": "code",
      "metadata": {
        "colab": {
          "base_uri": "https://localhost:8080/"
        },
        "id": "7pkIlNlSyP1h",
        "outputId": "0c9e544e-eb1b-4e59-a056-5bc7305bcd40"
      },
      "source": [
        "#write code for gradient descent to find thetas\n",
        "def sigmoid(sd):\n",
        "    return 1.0/(1.0+np.exp(-sd))\n",
        "\n",
        "def px(wt,X):\n",
        "    s=np.array(wt[0]*np.array(X[:,0])+wt[1]*np.array(X[:,1])+wt[2]*np.array(X[:,2]))\n",
        "    return sigmoid(s)\n",
        "\n",
        "def gradient(wt,X,Y):\n",
        "    y_pred=px(wt,X)\n",
        "    y_pred=np.array([1 if p >= 0.5 else 0 for p in y_pred])\n",
        "    gt=[0]*X.shape[1]\n",
        "    for i in range(X.shape[1]):\n",
        "        gt[i]=-1*np.sum(Y*(1-y_pred)*X[:,i]-(1-Y)*y_pred*X[:,i])\n",
        "    return gt\n",
        "\n",
        "def descent(wt_new,wt_prev,lr):\n",
        "    epochs=0\n",
        "    while True:\n",
        "        wt_prev=wt_new\n",
        "        gt=gradient(wt_prev,X,Y)\n",
        "        w0=wt_prev[0]-lr*gt[0]\n",
        "        w1=wt_prev[1]-lr*gt[1]\n",
        "        w2=wt_prev[2]-lr*gt[2]\n",
        "        wt_new=[w0,w1,w2]\n",
        "\n",
        "        if (wt_new[0]-wt_prev[0])**2+(wt_new[1]-wt_prev[1])**2+(wt_new[2]-wt_prev[2])**2<pow(10,-6):\n",
        "            return wt_new\n",
        "        \n",
        "        if epochs>100:\n",
        "            return wt_new\n",
        "        epochs+=1\n",
        "        \n",
        "wt=[1,1,1]\n",
        "wt=descent(wt,wt,0.009)\n",
        "print(\"Theta\", wt)"
      ],
      "execution_count": null,
      "outputs": [
        {
          "output_type": "stream",
          "name": "stdout",
          "text": [
            "Theta [-0.26000000000000034, 0.11799999999999974, 0.11799999999999974]\n"
          ]
        }
      ]
    },
    {
      "cell_type": "code",
      "metadata": {
        "colab": {
          "base_uri": "https://localhost:8080/",
          "height": 283
        },
        "id": "iefMj3P58Ami",
        "outputId": "350b0f7c-0a14-4d4f-bcbe-4c9baf711a90"
      },
      "source": [
        "#plot decision boundry \n",
        "uq = np.unique(Xb[:,-1])\n",
        "for i in uq:\n",
        "    cl1 = Xb[Xb[:,-1]==i]\n",
        "    plt.scatter(cl1[:,0], cl1[:,1],linewidth=10)\n",
        "\n",
        "x=np.linspace(0,2,10)\n",
        "y=(-wt[0]-wt[1]*x)/wt[2]\n",
        "plt.plot(x,y)"
      ],
      "execution_count": null,
      "outputs": [
        {
          "output_type": "execute_result",
          "data": {
            "text/plain": [
              "[<matplotlib.lines.Line2D at 0x7f5c3c22b400>]"
            ]
          },
          "metadata": {},
          "execution_count": 37
        },
        {
          "output_type": "display_data",
          "data": {
            "text/plain": [
              "<Figure size 432x288 with 1 Axes>"
            ],
            "image/png": "[encoded data removed]"
          },
          "metadata": {
            "needs_background": "light"
          }
        }
      ]
    }
  ]
}